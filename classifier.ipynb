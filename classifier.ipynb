{
 "cells": [
  {
   "cell_type": "code",
   "execution_count": 1,
   "metadata": {},
   "outputs": [
    {
     "name": "stdout",
     "output_type": "stream",
     "text": [
      "Usando dispositivo: cuda\n"
     ]
    }
   ],
   "source": [
    "import torch\n",
    "# Detectar el dispositivo (GPU o CPU)\n",
    "device = torch.device(\"cuda\" if torch.cuda.is_available() else \"cpu\")\n",
    "print(f\"Usando dispositivo: {device}\")"
   ]
  },
  {
   "cell_type": "code",
   "execution_count": 2,
   "metadata": {
    "colab": {
     "base_uri": "https://localhost:8080/"
    },
    "id": "SJRW2PcjuJcB",
    "outputId": "bcc6b912-eda8-45c7-c552-7255ede84400"
   },
   "outputs": [],
   "source": [
    "#1. Importamos el dataset\n",
    "import kagglehub\n",
    "\n",
    "# Download latest version\n",
    "path = kagglehub.dataset_download(\"puneet6060/intel-image-classification\")"
   ]
  },
  {
   "cell_type": "code",
   "execution_count": 3,
   "metadata": {
    "colab": {
     "base_uri": "https://localhost:8080/"
    },
    "id": "XgsvAY1_uQOU",
    "outputId": "03703c0b-336a-4201-b250-809315d22e97"
   },
   "outputs": [
    {
     "name": "stdout",
     "output_type": "stream",
     "text": [
      "Clases encontradas: ['buildings', 'forest', 'glacier', 'mountain', 'sea', 'street']\n"
     ]
    }
   ],
   "source": [
    "from torchvision import transforms, datasets\n",
    "from torch.utils.data import DataLoader\n",
    "\n",
    "# 2. Definimos las transformaciones para normalizar los datos\n",
    "transform = transforms.Compose([\n",
    "    transforms.Resize((150, 150)),\n",
    "    transforms.ToTensor(),  # Convertimos imágenes a Tensores\n",
    "    transforms.Normalize((0.5, 0.5, 0.5), (0.5, 0.5, 0.5))\n",
    "])\n",
    "\n",
    "# 3. Cargar dataset\n",
    "train_data = datasets.ImageFolder(root=f\"{path}/seg_train/seg_train\", transform=transform)\n",
    "test_data = datasets.ImageFolder(root=f\"{path}/seg_test/seg_test\", transform=transform)\n",
    "\n",
    "train_loader = DataLoader(train_data, batch_size=75, shuffle=True)\n",
    "test_loader = DataLoader(test_data, batch_size=75, shuffle=False)\n",
    "\n",
    "# 4. Mostrar clases\n",
    "print(f\"Clases encontradas: {train_data.classes}\")"
   ]
  },
  {
   "cell_type": "code",
   "execution_count": 4,
   "metadata": {
    "colab": {
     "base_uri": "https://localhost:8080/",
     "height": 434
    },
    "id": "Ew2Ng-rw0BxZ",
    "outputId": "0c66aef3-55a6-4363-8e25-ba6072c0d6fd"
   },
   "outputs": [
    {
     "ename": "TypeError",
     "evalue": "can't convert cuda:0 device type tensor to numpy. Use Tensor.cpu() to copy the tensor to host memory first.",
     "output_type": "error",
     "traceback": [
      "\u001b[1;31m---------------------------------------------------------------------------\u001b[0m",
      "\u001b[1;31mTypeError\u001b[0m                                 Traceback (most recent call last)",
      "Cell \u001b[1;32mIn[4], line 10\u001b[0m\n\u001b[0;32m      7\u001b[0m image, label \u001b[38;5;241m=\u001b[39m train_data[i]\n\u001b[0;32m      8\u001b[0m image \u001b[38;5;241m=\u001b[39m image\u001b[38;5;241m.\u001b[39munsqueeze(\u001b[38;5;241m0\u001b[39m)\u001b[38;5;241m.\u001b[39mto(device)\n\u001b[1;32m---> 10\u001b[0m plt\u001b[38;5;241m.\u001b[39mimshow(image\u001b[38;5;241m.\u001b[39msqueeze(\u001b[38;5;241m0\u001b[39m)\u001b[38;5;241m.\u001b[39mpermute(\u001b[38;5;241m1\u001b[39m, \u001b[38;5;241m2\u001b[39m, \u001b[38;5;241m0\u001b[39m)\u001b[38;5;241m.\u001b[39mnumpy() \u001b[38;5;241m*\u001b[39m \u001b[38;5;241m0.5\u001b[39m \u001b[38;5;241m+\u001b[39m \u001b[38;5;241m0.5\u001b[39m)\n\u001b[0;32m     11\u001b[0m plt\u001b[38;5;241m.\u001b[39mshow()\n",
      "\u001b[1;31mTypeError\u001b[0m: can't convert cuda:0 device type tensor to numpy. Use Tensor.cpu() to copy the tensor to host memory first."
     ]
    }
   ],
   "source": [
    "# 5. Vamos a visualizar una imagen del dataset\n",
    "import matplotlib.pyplot as plt\n",
    "import numpy as np\n",
    "\n",
    "# Obtenemos una imagen del dataset\n",
    "i = np.random.randint(len(train_data))\n",
    "image, label = train_data[i]\n",
    "image = image.unsqueeze(0).to(device)\n",
    "\n",
    "plt.imshow(image.squeeze(0).permute(1, 2, 0).numpy() * 0.5 + 0.5)\n",
    "plt.show()"
   ]
  },
  {
   "cell_type": "code",
   "execution_count": null,
   "metadata": {
    "colab": {
     "base_uri": "https://localhost:8080/"
    },
    "id": "9zSRTfiKvAqe",
    "outputId": "ac72d3a3-1535-4654-8a3e-0176ccd053d6"
   },
   "outputs": [
    {
     "name": "stdout",
     "output_type": "stream",
     "text": [
      "ConvNet(\n",
      "  (conv1): Conv2d(3, 32, kernel_size=(5, 5), stride=(1, 1), padding=(2, 2))\n",
      "  (pool): MaxPool2d(kernel_size=2, stride=2, padding=0, dilation=1, ceil_mode=False)\n",
      "  (conv2): Conv2d(32, 64, kernel_size=(5, 5), stride=(1, 1), padding=(2, 2))\n",
      "  (fc1): Linear(in_features=87616, out_features=256, bias=True)\n",
      "  (fc2): Linear(in_features=256, out_features=6, bias=True)\n",
      ")\n",
      "Número de parámetros: 22485190\n"
     ]
    }
   ],
   "source": [
    "import torch.nn as nn\n",
    "import torch.nn.functional as F\n",
    "\n",
    "#5. Definimos el modelo\n",
    "class ConvNet(nn.Module):\n",
    "    def __init__(self):\n",
    "        super(ConvNet, self).__init__()\n",
    "        self.conv1 = nn.Conv2d(3, 32, kernel_size=5, stride=1, padding=2)  # Entrada: 3 canales, Salida: 32 canales, kernel de 5x5\n",
    "        self.pool = nn.MaxPool2d(kernel_size=2, stride=2, padding=0)  # Max pooling con un kernel de 2x2\n",
    "        self.conv2 = nn.Conv2d(32, 64, kernel_size=5, stride=1, padding=2)  # Entrada: 32 canales, Salida: 64 canales\n",
    "        self.fc1 = nn.Linear(64 * 37 * 37, 256)  # Imágenes reducidas a 150x150 después del pooling\n",
    "        self.fc2 = nn.Linear(256, 6)  # 100 clases de salida para MNIST\n",
    "\n",
    "    def forward(self, x):\n",
    "        x = self.pool(F.relu(self.conv1(x)))\n",
    "        x = self.pool(F.relu(self.conv2(x)))\n",
    "        x = x.view(-1, 64 * 37 * 37)  # Aplanar\n",
    "        x = F.relu(self.fc1(x))\n",
    "        x = self.fc2(x)\n",
    "        return x\n",
    "\n",
    "model = ConvNet().to(device)\n",
    "print(model)\n",
    "print(\"Número de parámetros:\", sum(p.numel() for p in model.parameters()))"
   ]
  },
  {
   "cell_type": "code",
   "execution_count": 5,
   "metadata": {
    "colab": {
     "base_uri": "https://localhost:8080/"
    },
    "id": "cRat_gQCzz9G",
    "outputId": "f7afff64-3e8a-4f9f-982a-f66e6652cd02"
   },
   "outputs": [
    {
     "name": "stdout",
     "output_type": "stream",
     "text": [
      "Etiqueta real: forest\n",
      "Predicción del modelo: glacier\n"
     ]
    }
   ],
   "source": [
    "# 6. Predicción antes del entrenamiento\n",
    "model.eval()\n",
    "with torch.no_grad():\n",
    "    output = model(image)  # Agregar dimensión batch\n",
    "    _, pred = torch.max(output, 1)  # Índice de la mayor probabilidad\n",
    "\n",
    "# Mostrar resultados\n",
    "print(f\"Etiqueta real: {train_data.classes[label]}\")\n",
    "print(f\"Predicción del modelo: {train_data.classes[pred]}\")"
   ]
  },
  {
   "cell_type": "code",
   "execution_count": 6,
   "metadata": {
    "id": "95K8qK5E1fPc"
   },
   "outputs": [],
   "source": [
    "import torch.optim as optim\n",
    "\n",
    "criterion = nn.CrossEntropyLoss()\n",
    "optimizer = optim.Adam(model.parameters(), lr=0.001)"
   ]
  },
  {
   "cell_type": "code",
   "execution_count": null,
   "metadata": {
    "id": "5uVApK84w1zM"
   },
   "outputs": [],
   "source": [
    "#6. Entrenamiento\n",
    "epochs = 10\n",
    "for epoch in range(epochs):\n",
    "    running_loss = 0.0\n",
    "    for images, labels in train_loader:\n",
    "        images, labels = images.to(device), labels.to(device)\n",
    "        \n",
    "        optimizer.zero_grad()  # Limpiamos los gradientes\n",
    "        outputs = model(images)  # Pasamos las imágenes por la red\n",
    "        loss = criterion(outputs, labels)  # Calculamos la pérdida\n",
    "        loss.backward()  # Backpropagation\n",
    "        optimizer.step()  # Actualizamos los pesos\n",
    "\n",
    "        running_loss += loss.item()\n",
    "    print(f'Epoch {epoch+1}, Loss: {running_loss/len(train_loader)}')"
   ]
  },
  {
   "cell_type": "code",
   "execution_count": null,
   "metadata": {
    "id": "2s3sVWXGw5qC"
   },
   "outputs": [],
   "source": [
    "#7. EValuación\n",
    "correct = 0\n",
    "total = 0\n",
    "with torch.no_grad():  # No necesitamos calcular gradientes para la evaluación\n",
    "    for images, labels in test_loader:\n",
    "        images, labels = images.to(device), labels.to(device)\n",
    "        \n",
    "        outputs = model(images)\n",
    "        _, predicted = torch.max(outputs.data, 1)\n",
    "        total += labels.size(0)\n",
    "        correct += (predicted == labels).sum().item()\n",
    "\n",
    "        #predicción despues del entrenamiento\n",
    "        output = model(image)  # Agregar dimensión batch\n",
    "        _,pred = torch.max(output, 1)  # Índice de la mayor probabilidad\n",
    "\n",
    "print(f'Accuracy of the model on the test images: {100 * correct / total}%')\n",
    "# Mostrar resultados\n",
    "print(f\"Etiqueta real: {train_data.classes[label]}\")\n",
    "print(f\"Predicción del modelo: {train_data.classes[pred]}\")"
   ]
  }
 ],
 "metadata": {
  "colab": {
   "provenance": []
  },
  "kernelspec": {
   "display_name": "base",
   "language": "python",
   "name": "python3"
  },
  "language_info": {
   "codemirror_mode": {
    "name": "ipython",
    "version": 3
   },
   "file_extension": ".py",
   "mimetype": "text/x-python",
   "name": "python",
   "nbconvert_exporter": "python",
   "pygments_lexer": "ipython3",
   "version": "3.12.7"
  }
 },
 "nbformat": 4,
 "nbformat_minor": 0
}
